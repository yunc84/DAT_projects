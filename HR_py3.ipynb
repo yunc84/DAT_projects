{
 "cells": [
  {
   "cell_type": "markdown",
   "metadata": {},
   "source": [
    "# Problem Statement\n",
    "\n",
    "- Determine which employees will leave next using provided employee data."
   ]
  },
  {
   "cell_type": "code",
   "execution_count": 1,
   "metadata": {},
   "outputs": [
    {
     "name": "stdout",
     "output_type": "stream",
     "text": [
      "<class 'pandas.core.frame.DataFrame'>\n",
      "RangeIndex: 14999 entries, 0 to 14998\n",
      "Data columns (total 10 columns):\n",
      "satisfaction_level       14999 non-null float64\n",
      "last_evaluation          14999 non-null float64\n",
      "number_project           14999 non-null int64\n",
      "average_montly_hours     14999 non-null int64\n",
      "time_spend_company       14999 non-null int64\n",
      "Work_accident            14999 non-null int64\n",
      "left                     14999 non-null int64\n",
      "promotion_last_5years    14999 non-null int64\n",
      "sales                    14999 non-null object\n",
      "salary                   14999 non-null object\n",
      "dtypes: float64(2), int64(6), object(2)\n",
      "memory usage: 1.1+ MB\n"
     ]
    }
   ],
   "source": [
    "import numpy as np\n",
    "import pandas as pd\n",
    "\n",
    "df = pd.read_csv('../input/HR_comma_sep.csv')\n",
    "df.info()"
   ]
  },
  {
   "cell_type": "markdown",
   "metadata": {},
   "source": [
    "# EDA"
   ]
  },
  {
   "cell_type": "code",
   "execution_count": 2,
   "metadata": {},
   "outputs": [
    {
     "data": {
      "text/html": [
       "<div>\n",
       "<table border=\"1\" class=\"dataframe\">\n",
       "  <thead>\n",
       "    <tr style=\"text-align: right;\">\n",
       "      <th></th>\n",
       "      <th>satisfaction_level</th>\n",
       "      <th>last_evaluation</th>\n",
       "      <th>number_project</th>\n",
       "      <th>average_monthly_hours</th>\n",
       "      <th>time_spend_company</th>\n",
       "      <th>Work_accident</th>\n",
       "      <th>left</th>\n",
       "      <th>promotion_last_5years</th>\n",
       "    </tr>\n",
       "  </thead>\n",
       "  <tbody>\n",
       "    <tr>\n",
       "      <th>count</th>\n",
       "      <td>14999.000000</td>\n",
       "      <td>14999.000000</td>\n",
       "      <td>14999.000000</td>\n",
       "      <td>14999.000000</td>\n",
       "      <td>14999.000000</td>\n",
       "      <td>14999.000000</td>\n",
       "      <td>14999.000000</td>\n",
       "      <td>14999.000000</td>\n",
       "    </tr>\n",
       "    <tr>\n",
       "      <th>mean</th>\n",
       "      <td>0.612834</td>\n",
       "      <td>0.716102</td>\n",
       "      <td>3.803054</td>\n",
       "      <td>201.050337</td>\n",
       "      <td>3.498233</td>\n",
       "      <td>0.144610</td>\n",
       "      <td>0.238083</td>\n",
       "      <td>0.021268</td>\n",
       "    </tr>\n",
       "    <tr>\n",
       "      <th>std</th>\n",
       "      <td>0.248631</td>\n",
       "      <td>0.171169</td>\n",
       "      <td>1.232592</td>\n",
       "      <td>49.943099</td>\n",
       "      <td>1.460136</td>\n",
       "      <td>0.351719</td>\n",
       "      <td>0.425924</td>\n",
       "      <td>0.144281</td>\n",
       "    </tr>\n",
       "    <tr>\n",
       "      <th>min</th>\n",
       "      <td>0.090000</td>\n",
       "      <td>0.360000</td>\n",
       "      <td>2.000000</td>\n",
       "      <td>96.000000</td>\n",
       "      <td>2.000000</td>\n",
       "      <td>0.000000</td>\n",
       "      <td>0.000000</td>\n",
       "      <td>0.000000</td>\n",
       "    </tr>\n",
       "    <tr>\n",
       "      <th>25%</th>\n",
       "      <td>0.440000</td>\n",
       "      <td>0.560000</td>\n",
       "      <td>3.000000</td>\n",
       "      <td>156.000000</td>\n",
       "      <td>3.000000</td>\n",
       "      <td>0.000000</td>\n",
       "      <td>0.000000</td>\n",
       "      <td>0.000000</td>\n",
       "    </tr>\n",
       "    <tr>\n",
       "      <th>50%</th>\n",
       "      <td>0.640000</td>\n",
       "      <td>0.720000</td>\n",
       "      <td>4.000000</td>\n",
       "      <td>200.000000</td>\n",
       "      <td>3.000000</td>\n",
       "      <td>0.000000</td>\n",
       "      <td>0.000000</td>\n",
       "      <td>0.000000</td>\n",
       "    </tr>\n",
       "    <tr>\n",
       "      <th>75%</th>\n",
       "      <td>0.820000</td>\n",
       "      <td>0.870000</td>\n",
       "      <td>5.000000</td>\n",
       "      <td>245.000000</td>\n",
       "      <td>4.000000</td>\n",
       "      <td>0.000000</td>\n",
       "      <td>0.000000</td>\n",
       "      <td>0.000000</td>\n",
       "    </tr>\n",
       "    <tr>\n",
       "      <th>max</th>\n",
       "      <td>1.000000</td>\n",
       "      <td>1.000000</td>\n",
       "      <td>7.000000</td>\n",
       "      <td>310.000000</td>\n",
       "      <td>10.000000</td>\n",
       "      <td>1.000000</td>\n",
       "      <td>1.000000</td>\n",
       "      <td>1.000000</td>\n",
       "    </tr>\n",
       "  </tbody>\n",
       "</table>\n",
       "</div>"
      ],
      "text/plain": [
       "       satisfaction_level  last_evaluation  number_project  \\\n",
       "count        14999.000000     14999.000000    14999.000000   \n",
       "mean             0.612834         0.716102        3.803054   \n",
       "std              0.248631         0.171169        1.232592   \n",
       "min              0.090000         0.360000        2.000000   \n",
       "25%              0.440000         0.560000        3.000000   \n",
       "50%              0.640000         0.720000        4.000000   \n",
       "75%              0.820000         0.870000        5.000000   \n",
       "max              1.000000         1.000000        7.000000   \n",
       "\n",
       "       average_monthly_hours  time_spend_company  Work_accident          left  \\\n",
       "count           14999.000000        14999.000000   14999.000000  14999.000000   \n",
       "mean              201.050337            3.498233       0.144610      0.238083   \n",
       "std                49.943099            1.460136       0.351719      0.425924   \n",
       "min                96.000000            2.000000       0.000000      0.000000   \n",
       "25%               156.000000            3.000000       0.000000      0.000000   \n",
       "50%               200.000000            3.000000       0.000000      0.000000   \n",
       "75%               245.000000            4.000000       0.000000      0.000000   \n",
       "max               310.000000           10.000000       1.000000      1.000000   \n",
       "\n",
       "       promotion_last_5years  \n",
       "count           14999.000000  \n",
       "mean                0.021268  \n",
       "std                 0.144281  \n",
       "min                 0.000000  \n",
       "25%                 0.000000  \n",
       "50%                 0.000000  \n",
       "75%                 0.000000  \n",
       "max                 1.000000  "
      ]
     },
     "execution_count": 2,
     "metadata": {},
     "output_type": "execute_result"
    }
   ],
   "source": [
    "# rename some columns\n",
    "df.rename(columns={'average_montly_hours':'average_monthly_hours', 'sales':'department'}, \n",
    "          inplace=True)\n",
    "df.describe()"
   ]
  },
  {
   "cell_type": "code",
   "execution_count": 3,
   "metadata": {},
   "outputs": [
    {
     "name": "stdout",
     "output_type": "stream",
     "text": [
      "Departments:\n",
      "sales          4140\n",
      "technical      2720\n",
      "support        2229\n",
      "IT             1227\n",
      "product_mng     902\n",
      "marketing       858\n",
      "RandD           787\n",
      "accounting      767\n",
      "hr              739\n",
      "management      630\n",
      "Name: department, dtype: int64\n",
      "\n",
      "Salary:\n",
      "low       7316\n",
      "medium    6446\n",
      "high      1237\n",
      "Name: salary, dtype: int64\n"
     ]
    }
   ],
   "source": [
    "print ('Departments:')\n",
    "print (df['department'].value_counts())\n",
    "print ('\\nSalary:')\n",
    "print (df['salary'].value_counts())"
   ]
  },
  {
   "cell_type": "markdown",
   "metadata": {},
   "source": [
    "### Data Dictionary\n",
    "\n",
    "Variable | Description | Type of Variable | Range\n",
    "\n",
    "----------\n",
    "\n",
    "- satisfaction_level | Satisfaction level of employee based on survey | Continuous | [0.09, 1]\n",
    "- last_evaluation | Score based on employee's last evaluation | Continuous | [0.36, 1]\n",
    "- number_project | Number of projects | Continuous | [2, 7]\n",
    "- average_monthly_hours | Average monthly hours | Continuous | [96, 310]\n",
    "- time_spend_company | Years at company | Continuous | [2, 10]\n",
    "- Work_accident | Whether employee had a work accident | Categorical | {0, 1}\n",
    "- left | Whether employee had left (Outcome Variable) | Categorical | {0, 1}\n",
    "- promotion_last_5years | Whether employee had a promotion in the last 5 years | Categorical | {0, 1}\n",
    "- department | Department employee worked in | Categorical | 10 departments \n",
    "- salary | Level of employee's salary | Categorical | {low, medium, high}"
   ]
  },
  {
   "cell_type": "code",
   "execution_count": 4,
   "metadata": {},
   "outputs": [
    {
     "data": {
      "text/html": [
       "<div>\n",
       "<table border=\"1\" class=\"dataframe\">\n",
       "  <thead>\n",
       "    <tr style=\"text-align: right;\">\n",
       "      <th></th>\n",
       "      <th>satisfaction_level</th>\n",
       "      <th>last_evaluation</th>\n",
       "      <th>number_project</th>\n",
       "      <th>average_monthly_hours</th>\n",
       "      <th>time_spend_company</th>\n",
       "      <th>Work_accident</th>\n",
       "      <th>left</th>\n",
       "      <th>promotion_last_5years</th>\n",
       "    </tr>\n",
       "  </thead>\n",
       "  <tbody>\n",
       "    <tr>\n",
       "      <th>satisfaction_level</th>\n",
       "      <td>1.000000</td>\n",
       "      <td>0.105021</td>\n",
       "      <td>-0.142970</td>\n",
       "      <td>-0.020048</td>\n",
       "      <td>-0.100866</td>\n",
       "      <td>0.058697</td>\n",
       "      <td>-0.388375</td>\n",
       "      <td>0.025605</td>\n",
       "    </tr>\n",
       "    <tr>\n",
       "      <th>last_evaluation</th>\n",
       "      <td>0.105021</td>\n",
       "      <td>1.000000</td>\n",
       "      <td>0.349333</td>\n",
       "      <td>0.339742</td>\n",
       "      <td>0.131591</td>\n",
       "      <td>-0.007104</td>\n",
       "      <td>0.006567</td>\n",
       "      <td>-0.008684</td>\n",
       "    </tr>\n",
       "    <tr>\n",
       "      <th>number_project</th>\n",
       "      <td>-0.142970</td>\n",
       "      <td>0.349333</td>\n",
       "      <td>1.000000</td>\n",
       "      <td>0.417211</td>\n",
       "      <td>0.196786</td>\n",
       "      <td>-0.004741</td>\n",
       "      <td>0.023787</td>\n",
       "      <td>-0.006064</td>\n",
       "    </tr>\n",
       "    <tr>\n",
       "      <th>average_monthly_hours</th>\n",
       "      <td>-0.020048</td>\n",
       "      <td>0.339742</td>\n",
       "      <td>0.417211</td>\n",
       "      <td>1.000000</td>\n",
       "      <td>0.127755</td>\n",
       "      <td>-0.010143</td>\n",
       "      <td>0.071287</td>\n",
       "      <td>-0.003544</td>\n",
       "    </tr>\n",
       "    <tr>\n",
       "      <th>time_spend_company</th>\n",
       "      <td>-0.100866</td>\n",
       "      <td>0.131591</td>\n",
       "      <td>0.196786</td>\n",
       "      <td>0.127755</td>\n",
       "      <td>1.000000</td>\n",
       "      <td>0.002120</td>\n",
       "      <td>0.144822</td>\n",
       "      <td>0.067433</td>\n",
       "    </tr>\n",
       "    <tr>\n",
       "      <th>Work_accident</th>\n",
       "      <td>0.058697</td>\n",
       "      <td>-0.007104</td>\n",
       "      <td>-0.004741</td>\n",
       "      <td>-0.010143</td>\n",
       "      <td>0.002120</td>\n",
       "      <td>1.000000</td>\n",
       "      <td>-0.154622</td>\n",
       "      <td>0.039245</td>\n",
       "    </tr>\n",
       "    <tr>\n",
       "      <th>left</th>\n",
       "      <td>-0.388375</td>\n",
       "      <td>0.006567</td>\n",
       "      <td>0.023787</td>\n",
       "      <td>0.071287</td>\n",
       "      <td>0.144822</td>\n",
       "      <td>-0.154622</td>\n",
       "      <td>1.000000</td>\n",
       "      <td>-0.061788</td>\n",
       "    </tr>\n",
       "    <tr>\n",
       "      <th>promotion_last_5years</th>\n",
       "      <td>0.025605</td>\n",
       "      <td>-0.008684</td>\n",
       "      <td>-0.006064</td>\n",
       "      <td>-0.003544</td>\n",
       "      <td>0.067433</td>\n",
       "      <td>0.039245</td>\n",
       "      <td>-0.061788</td>\n",
       "      <td>1.000000</td>\n",
       "    </tr>\n",
       "  </tbody>\n",
       "</table>\n",
       "</div>"
      ],
      "text/plain": [
       "                       satisfaction_level  last_evaluation  number_project  \\\n",
       "satisfaction_level               1.000000         0.105021       -0.142970   \n",
       "last_evaluation                  0.105021         1.000000        0.349333   \n",
       "number_project                  -0.142970         0.349333        1.000000   \n",
       "average_monthly_hours           -0.020048         0.339742        0.417211   \n",
       "time_spend_company              -0.100866         0.131591        0.196786   \n",
       "Work_accident                    0.058697        -0.007104       -0.004741   \n",
       "left                            -0.388375         0.006567        0.023787   \n",
       "promotion_last_5years            0.025605        -0.008684       -0.006064   \n",
       "\n",
       "                       average_monthly_hours  time_spend_company  \\\n",
       "satisfaction_level                 -0.020048           -0.100866   \n",
       "last_evaluation                     0.339742            0.131591   \n",
       "number_project                      0.417211            0.196786   \n",
       "average_monthly_hours               1.000000            0.127755   \n",
       "time_spend_company                  0.127755            1.000000   \n",
       "Work_accident                      -0.010143            0.002120   \n",
       "left                                0.071287            0.144822   \n",
       "promotion_last_5years              -0.003544            0.067433   \n",
       "\n",
       "                       Work_accident      left  promotion_last_5years  \n",
       "satisfaction_level          0.058697 -0.388375               0.025605  \n",
       "last_evaluation            -0.007104  0.006567              -0.008684  \n",
       "number_project             -0.004741  0.023787              -0.006064  \n",
       "average_monthly_hours      -0.010143  0.071287              -0.003544  \n",
       "time_spend_company          0.002120  0.144822               0.067433  \n",
       "Work_accident               1.000000 -0.154622               0.039245  \n",
       "left                       -0.154622  1.000000              -0.061788  \n",
       "promotion_last_5years       0.039245 -0.061788               1.000000  "
      ]
     },
     "execution_count": 4,
     "metadata": {},
     "output_type": "execute_result"
    }
   ],
   "source": [
    "df.corr()"
   ]
  },
  {
   "cell_type": "markdown",
   "metadata": {},
   "source": [
    "#### No two variables are highly correlated:\n",
    "- Highest correlation is between number of projects and average monthly hours (`0.42`)\n",
    "- Variable that has highest correlation with outcome variable (`left`) is `satisfaction_level` with `-0.39` correlation; understandably dissatisfied employees leave.\n",
    "- Interestingly, variables such as `last_evaluation` and `promotion_last_5years`, which I thought would have a certain degree of (negative) correlation, actually have very low correlation with the outcome variable."
   ]
  },
  {
   "cell_type": "code",
   "execution_count": 5,
   "metadata": {
    "collapsed": true
   },
   "outputs": [],
   "source": [
    "import matplotlib.pyplot as plt\n",
    "import seaborn as sns\n",
    "%matplotlib inline\n",
    "plt.style.use('ggplot')"
   ]
  },
  {
   "cell_type": "code",
   "execution_count": 6,
   "metadata": {},
   "outputs": [
    {
     "data": {
      "image/png": "[encoded data removed]",
      "text/plain": [
       "<matplotlib.figure.Figure at 0x7fdda501c470>"
      ]
     },
     "metadata": {},
     "output_type": "display_data"
    }
   ],
   "source": [
    "# Attrition by department\n",
    "plot = sns.factorplot(x='department', y='left', kind='bar', data=df)\n",
    "plot.set_xticklabels(rotation=45, horizontalalignment='right');"
   ]
  },
  {
   "cell_type": "markdown",
   "metadata": {},
   "source": [
    "- Most departments are in the 20-30% range of percentage of employees leaving, which is comparable to the overall rate of 24%.\n",
    "- The exceptions are management and R&D, which have only about 15% of employees that have left. (More on this below.)"
   ]
  },
  {
   "cell_type": "code",
   "execution_count": 7,
   "metadata": {},
   "outputs": [
    {
     "data": {
      "image/png": "[encoded data removed]",
      "text/plain": [
       "<matplotlib.figure.Figure at 0x7fdda1c18128>"
      ]
     },
     "metadata": {},
     "output_type": "display_data"
    }
   ],
   "source": [
    "# Attrition by salary level\n",
    "plot = sns.factorplot(x='salary', y='left', kind='bar', data=df);"
   ]
  },
  {
   "cell_type": "markdown",
   "metadata": {},
   "source": [
    "- Higher salary employees have lower attrition rates - makes sense intuitively.\n",
    "- The earlier comment on management having lower attrition is consistent with above, since relatively large proportion of management has high levels of salary. (below)"
   ]
  },
  {
   "cell_type": "code",
   "execution_count": 8,
   "metadata": {},
   "outputs": [
    {
     "data": {
      "image/png": "[encoded data removed]",
      "text/plain": [
       "<matplotlib.figure.Figure at 0x7fdda1badcc0>"
      ]
     },
     "metadata": {},
     "output_type": "display_data"
    }
   ],
   "source": [
    "df[df['department']=='management']['salary'].value_counts().plot(kind='pie', title='Management salary level distribution');"
   ]
  },
  {
   "cell_type": "code",
   "execution_count": 9,
   "metadata": {},
   "outputs": [
    {
     "data": {
      "image/png": "[encoded data removed]",
      "text/plain": [
       "<matplotlib.figure.Figure at 0x7fdda1ad2358>"
      ]
     },
     "metadata": {},
     "output_type": "display_data"
    }
   ],
   "source": [
    "df[df['department']=='RandD']['salary'].value_counts().plot(kind='pie', title='R&D dept salary level distribution');"
   ]
  },
  {
   "cell_type": "markdown",
   "metadata": {},
   "source": [
    "- On the other hand, R&D has similar salary distribution to rest of the company. Other factors might be in play here."
   ]
  },
  {
   "cell_type": "code",
   "execution_count": 10,
   "metadata": {},
   "outputs": [
    {
     "data": {
      "image/png": "[encoded data removed]",
      "text/plain": [
       "<matplotlib.figure.Figure at 0x7fdda1cc1ef0>"
      ]
     },
     "metadata": {},
     "output_type": "display_data"
    }
   ],
   "source": [
    "# Satisfaction level vs. Attrition\n",
    "bins = np.linspace(0.0001, 1.0001, 21)\n",
    "plt.hist(df[df['left']==1]['satisfaction_level'], bins=bins, alpha=0.7, label='Employees Left')\n",
    "plt.hist(df[df['left']==0]['satisfaction_level'], bins=bins, alpha=0.5, label='Employees Stayed')\n",
    "plt.xlabel('satisfaction_level')\n",
    "plt.xlim((0,1.05))\n",
    "plt.legend(loc='best');"
   ]
  },
  {
   "cell_type": "markdown",
   "metadata": {},
   "source": [
    "- As expected, employees who have stayed are generally more satisfied than those who have left.\n",
    "- Interestingly, there is a peak around `0.4` and also a good amount in the `(0.7, 0.9)` range of satisfaction level scores of employees who have left (but not much in between those two groups). Learning more about these two groups, especially the latter group, could potentially shed some light into the types of employees who would be leaving next."
   ]
  },
  {
   "cell_type": "code",
   "execution_count": 11,
   "metadata": {},
   "outputs": [
    {
     "data": {
      "image/png": "[encoded data removed]",
      "text/plain": [
       "<matplotlib.figure.Figure at 0x7fdda18de470>"
      ]
     },
     "metadata": {},
     "output_type": "display_data"
    }
   ],
   "source": [
    "# Last evaluation vs. Attrition\n",
    "bins = np.linspace(0.3501, 1.0001, 14)\n",
    "plt.hist(df[df['left']==1]['last_evaluation'], bins=bins, alpha=1, label='Employees Left')\n",
    "plt.hist(df[df['left']==0]['last_evaluation'], bins=bins, alpha=0.4, label='Employees Stayed')\n",
    "plt.xlabel('last_evaluation')\n",
    "plt.legend(loc='best');"
   ]
  },
  {
   "cell_type": "markdown",
   "metadata": {},
   "source": [
    "- Two large groups of former employees: high performing group and poorly performing group - explains the nearly zero correlation between `last_evaluation` and the outcome variable."
   ]
  },
  {
   "cell_type": "code",
   "execution_count": 12,
   "metadata": {},
   "outputs": [
    {
     "data": {
      "image/png": "[encoded data removed]",
      "text/plain": [
       "<matplotlib.figure.Figure at 0x7fdda179e240>"
      ]
     },
     "metadata": {},
     "output_type": "display_data"
    }
   ],
   "source": [
    "# Number of projects vs. Attrition\n",
    "bins = np.linspace(1.5, 7.5, 7)\n",
    "plt.hist(df[df['left']==1]['number_project'], bins=bins, alpha=1, label='Employees Left')\n",
    "plt.hist(df[df['left']==0]['number_project'], bins=bins, alpha=0.4, label='Employees Stayed')\n",
    "plt.xlabel('number_project')\n",
    "plt.grid(axis='x')\n",
    "plt.legend(loc='best');"
   ]
  },
  {
   "cell_type": "markdown",
   "metadata": {},
   "source": [
    "- (Above) Too few projects = bad; too many projects = bad. Sweet spot is in the 3-4 range.\n",
    "- (Below) Similarly, attrition exists in both long and short hours worked. Sweet spot of low attrition is around the median value of 200 hours. (Ignoring employees with less than 125 hours worked - possibly part-time workers.)"
   ]
  },
  {
   "cell_type": "code",
   "execution_count": 13,
   "metadata": {},
   "outputs": [
    {
     "data": {
      "image/png": "[encoded data removed]",
      "text/plain": [
       "<matplotlib.figure.Figure at 0x7fdda18de588>"
      ]
     },
     "metadata": {},
     "output_type": "display_data"
    }
   ],
   "source": [
    "# Average monthly hours vs. Attrition\n",
    "bins = np.linspace(75, 325, 11)\n",
    "plt.hist(df[df['left']==1]['average_monthly_hours'], bins=bins, alpha=1, label='Employees Left')\n",
    "plt.hist(df[df['left']==0]['average_monthly_hours'], bins=bins, alpha=0.4, label='Employees Stayed')\n",
    "plt.xlabel('average_monthly_hours')\n",
    "plt.legend(loc='best');"
   ]
  },
  {
   "cell_type": "code",
   "execution_count": 14,
   "metadata": {},
   "outputs": [
    {
     "data": {
      "image/png": "[encoded data removed]",
      "text/plain": [
       "<matplotlib.figure.Figure at 0x7fdda17d4a58>"
      ]
     },
     "metadata": {},
     "output_type": "display_data"
    }
   ],
   "source": [
    "# Years at company vs. Attrition\n",
    "bins = np.linspace(1.5, 10.5, 10)\n",
    "plt.hist(df[df['left']==1]['time_spend_company'], bins=bins, alpha=1, label='Employees Left')\n",
    "plt.hist(df[df['left']==0]['time_spend_company'], bins=bins, alpha=0.4, label='Employees Stayed')\n",
    "plt.xlabel('time_spend_company')\n",
    "plt.xlim((1,11))\n",
    "plt.grid(axis='x')\n",
    "plt.xticks(np.arange(2,11))\n",
    "plt.legend(loc='best');"
   ]
  },
  {
   "cell_type": "markdown",
   "metadata": {},
   "source": [
    "- Relatively young company - longest tenure is 10 years.\n",
    "- Nobody left after working 7 years or longer in the company.\n",
    "- Employees in the year 5 group have the highest flight risk."
   ]
  },
  {
   "cell_type": "code",
   "execution_count": 15,
   "metadata": {},
   "outputs": [
    {
     "data": {
      "image/png": "[encoded data removed]",
      "text/plain": [
       "<matplotlib.figure.Figure at 0x7fdda1b9f2b0>"
      ]
     },
     "metadata": {},
     "output_type": "display_data"
    }
   ],
   "source": [
    "# Attrition by whether employee had work accident\n",
    "plot = sns.factorplot(x='Work_accident', y='left', kind='bar', data=df);"
   ]
  },
  {
   "cell_type": "code",
   "execution_count": 16,
   "metadata": {},
   "outputs": [
    {
     "data": {
      "image/png": "[encoded data removed]",
      "text/plain": [
       "<matplotlib.figure.Figure at 0x7fdda192c6a0>"
      ]
     },
     "metadata": {},
     "output_type": "display_data"
    }
   ],
   "source": [
    "# Attrition by whether employee had promotion in last 5 years\n",
    "plot = sns.factorplot(x='promotion_last_5years', y='left', kind='bar', data=df);"
   ]
  },
  {
   "cell_type": "markdown",
   "metadata": {},
   "source": [
    "- Expected results above. Promoted employees tend to stay.\n",
    "- Very low promotion rate (~2%)! Might be the reason why people are leaving after 3-5 years."
   ]
  },
  {
   "cell_type": "code",
   "execution_count": 17,
   "metadata": {},
   "outputs": [
    {
     "data": {
      "text/plain": [
       "0.021268084538969265"
      ]
     },
     "execution_count": 17,
     "metadata": {},
     "output_type": "execute_result"
    }
   ],
   "source": [
    "# Percentage of employees who had promotion in last 5 years\n",
    "df['promotion_last_5years'].mean()"
   ]
  },
  {
   "cell_type": "markdown",
   "metadata": {},
   "source": [
    "## EDA Summary\n",
    "\n",
    "- Departments: Management and R&D have low attrition, while others are similar.\n",
    "- Salary: Higher paid -> less likely to leave.\n",
    "- Satisfaction level: 3 clusters of employees leaving (satisfied, below average and disgruntled)\n",
    "- Last evaluation: two large groups of former employees, high performing group and poorly performing group, explains the nearly zero correlation between last_evaluation and the outcome variable.\n",
    "- Number of projects: too few projects = bad, too many projects = bad. Sweet spot is in the 3-4 range.\n",
    "- Average monthly hours: similar to number of projects, attrition exists in both long and short hours worked. Sweet spot of low attrition is around the median value of 200 hours. (Ignoring employees with less than 125 hours worked - possibly part-time workers.)\n",
    "- Years at company: nobody left after working 7 years or longer in the company. Employees in the year 5 group have the highest flight risk.\n",
    "- Promotions: very low promotion rate in last 5 years. Variable likely won't be very useful in learning algorithms due to low incident rate."
   ]
  },
  {
   "cell_type": "markdown",
   "metadata": {},
   "source": [
    "# Methods and Models used\n",
    "\n",
    "### Data Processing\n",
    "- 70/30 split for training set and test set (train_test_split)\n",
    "- Feature scaling (StandardScaler) required for some learners\n",
    "- Cross Validation using ShuffleSplit(n_splits=20, test_size=0.3)\n",
    "\n",
    "### Learning Algorithms Used\n",
    "- K-Nearest Neighbors\n",
    "- Random Forest\n",
    "- Logistic Regression\n",
    "- K-Means Clustering\n",
    "\n",
    "### Objective and Metric\n",
    "- Accuracy is what we want to optimize. Bonus, if we can explain how each feature contributes or calculate probabilities."
   ]
  },
  {
   "cell_type": "code",
   "execution_count": 18,
   "metadata": {
    "collapsed": true
   },
   "outputs": [],
   "source": [
    "X = df.drop('left', axis=1)\n",
    "y = df['left']\n",
    "X.drop(['department','salary'], axis=1, inplace=True)"
   ]
  },
  {
   "cell_type": "code",
   "execution_count": 19,
   "metadata": {
    "collapsed": true
   },
   "outputs": [],
   "source": [
    "# One-hot encoding\n",
    "salary_dummy = pd.get_dummies(df['salary'])\n",
    "department_dummy = pd.get_dummies(df['department'])\n",
    "\n",
    "# from EDA, only management and R&D had attrition different from the rest.\n",
    "X[['managment','RandD']] = department_dummy[['management', 'RandD']]\n",
    "X[['salary_high', 'salary_medium']] = salary_dummy[['high', 'medium']]"
   ]
  },
  {
   "cell_type": "code",
   "execution_count": 20,
   "metadata": {
    "collapsed": true
   },
   "outputs": [],
   "source": [
    "# Split Training Set from Testing Set (70/30)\n",
    "from sklearn.model_selection import train_test_split\n",
    "\n",
    "X_train, X_test, y_train, y_test = train_test_split(X, y, test_size=0.3)"
   ]
  },
  {
   "cell_type": "code",
   "execution_count": 21,
   "metadata": {
    "collapsed": true
   },
   "outputs": [],
   "source": [
    "# Scaling features\n",
    "from sklearn.preprocessing import StandardScaler\n",
    "\n",
    "stdsc = StandardScaler()\n",
    "# transform our training features\n",
    "X_train_std = stdsc.fit_transform(X_train)\n",
    "# transform the testing features in the same way\n",
    "X_test_std = stdsc.transform(X_test)"
   ]
  },
  {
   "cell_type": "code",
   "execution_count": 22,
   "metadata": {
    "collapsed": true
   },
   "outputs": [],
   "source": [
    "# Cross validation\n",
    "from sklearn.model_selection import ShuffleSplit\n",
    "\n",
    "cv = ShuffleSplit(n_splits=20, test_size=0.3)"
   ]
  },
  {
   "cell_type": "code",
   "execution_count": 23,
   "metadata": {
    "collapsed": true
   },
   "outputs": [],
   "source": [
    "# Model #1: kNN\n",
    "from sklearn.neighbors import KNeighborsClassifier\n",
    "\n",
    "knn = KNeighborsClassifier()"
   ]
  },
  {
   "cell_type": "code",
   "execution_count": 24,
   "metadata": {},
   "outputs": [
    {
     "name": "stdout",
     "output_type": "stream",
     "text": [
      "Parameters with best score:\n",
      "{'n_neighbors': 6, 'weights': 'distance'}\n",
      "Cross validation score: 0.97019047619\n"
     ]
    }
   ],
   "source": [
    "# Search for best parameters\n",
    "from sklearn.model_selection import GridSearchCV\n",
    "\n",
    "parameters = {'n_neighbors': range(1,11), 'weights': ['uniform', 'distance']}\n",
    "clf = GridSearchCV(knn, parameters, cv=cv)\n",
    "clf.fit(X_train_std, y_train)\n",
    "print('Parameters with best score:')\n",
    "print(clf.best_params_)\n",
    "print('Cross validation score:', clf.best_score_)"
   ]
  },
  {
   "cell_type": "code",
   "execution_count": 25,
   "metadata": {},
   "outputs": [
    {
     "name": "stdout",
     "output_type": "stream",
     "text": [
      "Test score: 0.974\n"
     ]
    }
   ],
   "source": [
    "best_knn = clf.best_estimator_\n",
    "print('Test score:', best_knn.score(X_test_std, y_test))"
   ]
  },
  {
   "cell_type": "markdown",
   "metadata": {},
   "source": [
    "- K-nearest neighbors performs well in predicting which employees have left on the test data set. (97% accuracy)\n",
    "- Not very useful in determining which employees will leave next."
   ]
  },
  {
   "cell_type": "code",
   "execution_count": 26,
   "metadata": {
    "collapsed": true
   },
   "outputs": [],
   "source": [
    "# Model #2: Random Forest\n",
    "from sklearn.ensemble import RandomForestClassifier\n",
    "\n",
    "rf_model = RandomForestClassifier()"
   ]
  },
  {
   "cell_type": "code",
   "execution_count": 27,
   "metadata": {},
   "outputs": [
    {
     "name": "stdout",
     "output_type": "stream",
     "text": [
      "Parameter with best score:\n",
      "{'n_estimators': 10}\n",
      "Cross validation score: 0.985571428571\n"
     ]
    }
   ],
   "source": [
    "rf_param = {'n_estimators': range(1,11)}\n",
    "rf_grid = GridSearchCV(rf_model, rf_param, cv=cv)\n",
    "rf_grid.fit(X_train, y_train)\n",
    "print('Parameter with best score:')\n",
    "print(rf_grid.best_params_)\n",
    "print('Cross validation score:', rf_grid.best_score_)"
   ]
  },
  {
   "cell_type": "code",
   "execution_count": 28,
   "metadata": {},
   "outputs": [
    {
     "name": "stdout",
     "output_type": "stream",
     "text": [
      "Test score: 0.988444444444\n"
     ]
    }
   ],
   "source": [
    "best_rf = rf_grid.best_estimator_\n",
    "print('Test score:', best_rf.score(X_test, y_test))"
   ]
  },
  {
   "cell_type": "code",
   "execution_count": 29,
   "metadata": {},
   "outputs": [
    {
     "data": {
      "text/html": [
       "<div>\n",
       "<table border=\"1\" class=\"dataframe\">\n",
       "  <thead>\n",
       "    <tr style=\"text-align: right;\">\n",
       "      <th></th>\n",
       "      <th>Features</th>\n",
       "      <th>Importance Score</th>\n",
       "    </tr>\n",
       "  </thead>\n",
       "  <tbody>\n",
       "    <tr>\n",
       "      <th>0</th>\n",
       "      <td>satisfaction_level</td>\n",
       "      <td>0.315840</td>\n",
       "    </tr>\n",
       "    <tr>\n",
       "      <th>4</th>\n",
       "      <td>time_spend_company</td>\n",
       "      <td>0.195782</td>\n",
       "    </tr>\n",
       "    <tr>\n",
       "      <th>2</th>\n",
       "      <td>number_project</td>\n",
       "      <td>0.186253</td>\n",
       "    </tr>\n",
       "    <tr>\n",
       "      <th>3</th>\n",
       "      <td>average_monthly_hours</td>\n",
       "      <td>0.162475</td>\n",
       "    </tr>\n",
       "    <tr>\n",
       "      <th>1</th>\n",
       "      <td>last_evaluation</td>\n",
       "      <td>0.119489</td>\n",
       "    </tr>\n",
       "    <tr>\n",
       "      <th>9</th>\n",
       "      <td>salary_high</td>\n",
       "      <td>0.007222</td>\n",
       "    </tr>\n",
       "    <tr>\n",
       "      <th>5</th>\n",
       "      <td>Work_accident</td>\n",
       "      <td>0.005347</td>\n",
       "    </tr>\n",
       "    <tr>\n",
       "      <th>10</th>\n",
       "      <td>salary_medium</td>\n",
       "      <td>0.003604</td>\n",
       "    </tr>\n",
       "    <tr>\n",
       "      <th>8</th>\n",
       "      <td>RandD</td>\n",
       "      <td>0.001563</td>\n",
       "    </tr>\n",
       "    <tr>\n",
       "      <th>7</th>\n",
       "      <td>managment</td>\n",
       "      <td>0.001422</td>\n",
       "    </tr>\n",
       "    <tr>\n",
       "      <th>6</th>\n",
       "      <td>promotion_last_5years</td>\n",
       "      <td>0.001002</td>\n",
       "    </tr>\n",
       "  </tbody>\n",
       "</table>\n",
       "</div>"
      ],
      "text/plain": [
       "                 Features  Importance Score\n",
       "0      satisfaction_level          0.315840\n",
       "4      time_spend_company          0.195782\n",
       "2          number_project          0.186253\n",
       "3   average_monthly_hours          0.162475\n",
       "1         last_evaluation          0.119489\n",
       "9             salary_high          0.007222\n",
       "5           Work_accident          0.005347\n",
       "10          salary_medium          0.003604\n",
       "8                   RandD          0.001563\n",
       "7               managment          0.001422\n",
       "6   promotion_last_5years          0.001002"
      ]
     },
     "execution_count": 29,
     "metadata": {},
     "output_type": "execute_result"
    }
   ],
   "source": [
    "# feature importance scores\n",
    "features = X.columns\n",
    "feature_importances = best_rf.feature_importances_\n",
    "\n",
    "features_df = pd.DataFrame({'Features': features, 'Importance Score': feature_importances})\n",
    "features_df.sort_values('Importance Score', inplace=True, ascending=False)\n",
    "\n",
    "features_df"
   ]
  },
  {
   "cell_type": "code",
   "execution_count": 30,
   "metadata": {},
   "outputs": [
    {
     "data": {
      "text/plain": [
       "0.9798392956027245"
      ]
     },
     "execution_count": 30,
     "metadata": {},
     "output_type": "execute_result"
    }
   ],
   "source": [
    "features_df['Importance Score'][:5].sum()"
   ]
  },
  {
   "cell_type": "markdown",
   "metadata": {},
   "source": [
    "- Random forest performs even better than kNN in predictions. (99% accuracy on the test set.)\n",
    "- Still doesn't help in determining which employees will leave next, but feature importance scores indicate that the top 5 features are informative while the remaining are not.\n",
    "- Satisfaction level score, hours worked, years at company, # of projects, and last evaluation score explains 98% of process in determining the outcome variable.\n",
    "- Next is Logistic Regression. Being able to calculate coefficients could help interpret the results. Being able to calculate probabilities is even better - it can inform the company which employees might leave next."
   ]
  },
  {
   "cell_type": "code",
   "execution_count": 31,
   "metadata": {
    "collapsed": true
   },
   "outputs": [],
   "source": [
    "# Model #3: Logistic Regression\n",
    "from sklearn.linear_model import LogisticRegression\n",
    "\n",
    "logreg = LogisticRegression()"
   ]
  },
  {
   "cell_type": "code",
   "execution_count": 32,
   "metadata": {},
   "outputs": [
    {
     "name": "stdout",
     "output_type": "stream",
     "text": [
      "Parameter with best score:\n",
      "{'C': 5000.0000094999996, 'class_weight': None}\n",
      "Cross validation score: 0.788587301587\n"
     ]
    }
   ],
   "source": [
    "log_param = {'C': np.linspace(1e-5, 1e5, 21), 'class_weight': [None, 'balanced']}\n",
    "log_grid = GridSearchCV(logreg, log_param, cv=cv)\n",
    "log_grid.fit(X_train_std, y_train)\n",
    "print('Parameter with best score:')\n",
    "print(log_grid.best_params_)\n",
    "print('Cross validation score:', log_grid.best_score_)"
   ]
  },
  {
   "cell_type": "code",
   "execution_count": 33,
   "metadata": {},
   "outputs": [
    {
     "name": "stdout",
     "output_type": "stream",
     "text": [
      "Test score: 0.786444444444\n"
     ]
    }
   ],
   "source": [
    "best_logreg = log_grid.best_estimator_\n",
    "print('Test score:', best_logreg.score(X_test_std,y_test))"
   ]
  },
  {
   "cell_type": "markdown",
   "metadata": {},
   "source": [
    "- Logistic regression does not perform well here. In comparison, predicting no one leaves will result in 76% accuracy. (1 minus mean of `left` variable)\n",
    "- How about we select only the five features from random forest feature importance scores?"
   ]
  },
  {
   "cell_type": "code",
   "execution_count": 34,
   "metadata": {
    "collapsed": true
   },
   "outputs": [],
   "source": [
    "reduced_features = ['satisfaction_level', 'time_spend_company', \n",
    "                    'number_project', 'average_monthly_hours', 'last_evaluation']\n",
    "X2_train = X_train[reduced_features]\n",
    "X2_test = X_test[reduced_features]\n",
    "stdsc2 = StandardScaler()\n",
    "X2_train_std = stdsc2.fit_transform(X2_train)\n",
    "X2_test_std = stdsc2.transform(X2_test)"
   ]
  },
  {
   "cell_type": "code",
   "execution_count": 35,
   "metadata": {},
   "outputs": [
    {
     "name": "stdout",
     "output_type": "stream",
     "text": [
      "Parameter with best score:\n",
      "{'C': 5000.0000094999996, 'class_weight': None}\n",
      "Cross validation score: 0.768476190476\n"
     ]
    }
   ],
   "source": [
    "logreg2 = LogisticRegression()\n",
    "log_grid2 = GridSearchCV(logreg2, log_param, cv=cv)\n",
    "log_grid2.fit(X2_train_std, y_train)\n",
    "print('Parameter with best score:')\n",
    "print(log_grid2.best_params_)\n",
    "print('Cross validation score:', log_grid2.best_score_)"
   ]
  },
  {
   "cell_type": "code",
   "execution_count": 36,
   "metadata": {},
   "outputs": [
    {
     "name": "stdout",
     "output_type": "stream",
     "text": [
      "Test score: 0.764222222222\n"
     ]
    }
   ],
   "source": [
    "best_logreg2 = log_grid2.best_estimator_\n",
    "print('Test score:', best_logreg2.score(X2_test_std,y_test))"
   ]
  },
  {
   "cell_type": "markdown",
   "metadata": {},
   "source": [
    "- Barely above the lower bound in accuracy score.\n",
    "- Most likely there is nonlinearity in the features and feature interaction that the logistic regression model does not capture."
   ]
  },
  {
   "cell_type": "code",
   "execution_count": 37,
   "metadata": {
    "collapsed": true
   },
   "outputs": [],
   "source": [
    "# Model #4: K-mean clustering\n",
    "from sklearn.cluster import KMeans\n",
    "\n",
    "# Fit entire dataset. Reduced features (top 5 from RF importance scores); scaled.\n",
    "X2 = X[reduced_features]\n",
    "X2_std = stdsc2.fit_transform(X2)"
   ]
  },
  {
   "cell_type": "code",
   "execution_count": 38,
   "metadata": {},
   "outputs": [
    {
     "data": {
      "image/png": "[encoded data removed]",
      "text/plain": [
       "<matplotlib.figure.Figure at 0x7fdda1d06128>"
      ]
     },
     "metadata": {},
     "output_type": "display_data"
    }
   ],
   "source": [
    "# Inertia vs. # of clusters\n",
    "x1 = []\n",
    "y1 = []\n",
    "for n in range(2,11):\n",
    "    km = KMeans(n_clusters=n, random_state=7)\n",
    "    km.fit(X2_std)\n",
    "    x1.append(n)\n",
    "    y1.append(km.inertia_)\n",
    "plt.scatter(x1, y1)\n",
    "plt.plot(x1, y1);"
   ]
  },
  {
   "cell_type": "markdown",
   "metadata": {},
   "source": [
    "- No clear \"elbow\" in the inertia graph in determining `k`.\n",
    "- After trying out every `k` from 3 to 10, settled on `k = 7` that yielded cluster probability values with the most distinct split. (see below)"
   ]
  },
  {
   "cell_type": "code",
   "execution_count": 39,
   "metadata": {},
   "outputs": [
    {
     "data": {
      "text/html": [
       "<div>\n",
       "<table border=\"1\" class=\"dataframe\">\n",
       "  <thead>\n",
       "    <tr style=\"text-align: right;\">\n",
       "      <th></th>\n",
       "      <th>0</th>\n",
       "      <th>1</th>\n",
       "      <th>2</th>\n",
       "      <th>3</th>\n",
       "      <th>4</th>\n",
       "      <th>5</th>\n",
       "      <th>6</th>\n",
       "    </tr>\n",
       "  </thead>\n",
       "  <tbody>\n",
       "    <tr>\n",
       "      <th>satisfaction_level</th>\n",
       "      <td>0.800510</td>\n",
       "      <td>0.418864</td>\n",
       "      <td>0.719596</td>\n",
       "      <td>0.157226</td>\n",
       "      <td>0.730666</td>\n",
       "      <td>0.632441</td>\n",
       "      <td>0.722155</td>\n",
       "    </tr>\n",
       "    <tr>\n",
       "      <th>time_spend_company</th>\n",
       "      <td>4.674549</td>\n",
       "      <td>3.059299</td>\n",
       "      <td>2.799443</td>\n",
       "      <td>4.255228</td>\n",
       "      <td>3.016859</td>\n",
       "      <td>7.647349</td>\n",
       "      <td>2.788147</td>\n",
       "    </tr>\n",
       "    <tr>\n",
       "      <th>number_project</th>\n",
       "      <td>4.560672</td>\n",
       "      <td>2.326146</td>\n",
       "      <td>3.675487</td>\n",
       "      <td>5.721402</td>\n",
       "      <td>4.148849</td>\n",
       "      <td>3.657213</td>\n",
       "      <td>3.522266</td>\n",
       "    </tr>\n",
       "    <tr>\n",
       "      <th>average_monthly_hours</th>\n",
       "      <td>244.263846</td>\n",
       "      <td>149.544474</td>\n",
       "      <td>242.528552</td>\n",
       "      <td>251.386839</td>\n",
       "      <td>160.866776</td>\n",
       "      <td>193.293465</td>\n",
       "      <td>190.363130</td>\n",
       "    </tr>\n",
       "    <tr>\n",
       "      <th>last_evaluation</th>\n",
       "      <td>0.901176</td>\n",
       "      <td>0.532892</td>\n",
       "      <td>0.636779</td>\n",
       "      <td>0.817146</td>\n",
       "      <td>0.613997</td>\n",
       "      <td>0.686178</td>\n",
       "      <td>0.884565</td>\n",
       "    </tr>\n",
       "  </tbody>\n",
       "</table>\n",
       "</div>"
      ],
      "text/plain": [
       "                                0           1           2           3  \\\n",
       "satisfaction_level       0.800510    0.418864    0.719596    0.157226   \n",
       "time_spend_company       4.674549    3.059299    2.799443    4.255228   \n",
       "number_project           4.560672    2.326146    3.675487    5.721402   \n",
       "average_monthly_hours  244.263846  149.544474  242.528552  251.386839   \n",
       "last_evaluation          0.901176    0.532892    0.636779    0.817146   \n",
       "\n",
       "                                4           5           6  \n",
       "satisfaction_level       0.730666    0.632441    0.722155  \n",
       "time_spend_company       3.016859    7.647349    2.788147  \n",
       "number_project           4.148849    3.657213    3.522266  \n",
       "average_monthly_hours  160.866776  193.293465  190.363130  \n",
       "last_evaluation          0.613997    0.686178    0.884565  "
      ]
     },
     "execution_count": 39,
     "metadata": {},
     "output_type": "execute_result"
    }
   ],
   "source": [
    "km = KMeans(n_clusters=7, n_init=20, random_state=7)\n",
    "km.fit(X2_std)\n",
    "columns = {str(x): stdsc2.inverse_transform(km.cluster_centers_[x]) for x in range(0,len(km.cluster_centers_))}\n",
    "pd.DataFrame(columns, index=X2.columns)"
   ]
  },
  {
   "cell_type": "code",
   "execution_count": 40,
   "metadata": {},
   "outputs": [
    {
     "data": {
      "text/html": [
       "<div>\n",
       "<table border=\"1\" class=\"dataframe\">\n",
       "  <thead>\n",
       "    <tr style=\"text-align: right;\">\n",
       "      <th></th>\n",
       "      <th>left</th>\n",
       "    </tr>\n",
       "    <tr>\n",
       "      <th>cluster</th>\n",
       "      <th></th>\n",
       "    </tr>\n",
       "  </thead>\n",
       "  <tbody>\n",
       "    <tr>\n",
       "      <th>0</th>\n",
       "      <td>0.549252</td>\n",
       "    </tr>\n",
       "    <tr>\n",
       "      <th>1</th>\n",
       "      <td>0.594917</td>\n",
       "    </tr>\n",
       "    <tr>\n",
       "      <th>2</th>\n",
       "      <td>0.024390</td>\n",
       "    </tr>\n",
       "    <tr>\n",
       "      <th>3</th>\n",
       "      <td>0.582411</td>\n",
       "    </tr>\n",
       "    <tr>\n",
       "      <th>4</th>\n",
       "      <td>0.017674</td>\n",
       "    </tr>\n",
       "    <tr>\n",
       "      <th>5</th>\n",
       "      <td>0.018496</td>\n",
       "    </tr>\n",
       "    <tr>\n",
       "      <th>6</th>\n",
       "      <td>0.022891</td>\n",
       "    </tr>\n",
       "  </tbody>\n",
       "</table>\n",
       "</div>"
      ],
      "text/plain": [
       "             left\n",
       "cluster          \n",
       "0        0.549252\n",
       "1        0.594917\n",
       "2        0.024390\n",
       "3        0.582411\n",
       "4        0.017674\n",
       "5        0.018496\n",
       "6        0.022891"
      ]
     },
     "execution_count": 40,
     "metadata": {},
     "output_type": "execute_result"
    }
   ],
   "source": [
    "# Percentage of employees left for each cluster. Helps identify which cluster to direct our focus.\n",
    "kmpredict = pd.DataFrame(data=df['left'])\n",
    "kmpredict['cluster'] = km.labels_\n",
    "kmpredict.groupby('cluster').mean()"
   ]
  },
  {
   "cell_type": "markdown",
   "metadata": {},
   "source": [
    "- There are 3 groups that have high probability of leaving: clusters 0, 1 and 3.\n",
    "- Cluster 0: Their satisfaction level is high and they are a high performing bunch. The workload is in the higher end, but satisfaction level suggests they don't mind it. They are coming up on 5 years of service and possibly looking for different opportunities. This is the key group we need to focus on for retention.\n",
    "- Cluster 1: Poor performing group (bottom quartile). Not very happy. Does not have many projects assigned to and working hours are short.\n",
    "- Cluster 3: High performing, but overworked. Very disgruntled group. Need to reassign some of their projects to other groups (such as Cluster 6)"
   ]
  },
  {
   "cell_type": "markdown",
   "metadata": {},
   "source": [
    "# Conclusions and Next Steps\n",
    "\n",
    "- kNN and RF were great in accurately predicting, but did not provide interpretation of the results, which could help determine which employees would leave next. (RF provided feature importance scores.)\n",
    "- Logistic Regression produces coefficients and probabilities, but performed poorly in predicting past employees leaving.\n",
    "- K-means with 7 clusters identified 3 clusters that have high employee attrition (55-60% vs avg. of 24%) and 4 clusters of low attrition (1-3%). Identify what type of employees each cluster represents then take necessary actions to improve on employee retention.\n",
    "- Some early recommendations (based on K-means clustering results)\n",
    "  - Cluster 0 (Key focus): consider employees for promotion and new roles. They are satisfied, yet they are leaving to try different things.\n",
    "  - Cluster 3 (overworked): reassign some of their projects to other groups (such as Clusters 6 - high performing but not as busy)\n",
    "- Find out why employees left and confirm if the clusters make sense.\n",
    "- Try k-means clustering on only the employees that have left and compare against the three clusters from above.\n",
    "- Monitor performance of model as employee’s features change, their “cluster” may also change."
   ]
  }
 ],
 "metadata": {
  "kernelspec": {
   "display_name": "Python [conda root]",
   "language": "python",
   "name": "conda-root-py"
  },
  "language_info": {
   "codemirror_mode": {
    "name": "ipython",
    "version": 3
   },
   "file_extension": ".py",
   "mimetype": "text/x-python",
   "name": "python",
   "nbconvert_exporter": "python",
   "pygments_lexer": "ipython3",
   "version": "3.6.2"
  }
 },
 "nbformat": 4,
 "nbformat_minor": 1
}
