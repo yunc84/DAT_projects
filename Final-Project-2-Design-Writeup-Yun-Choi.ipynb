{
 "cells": [
  {
   "cell_type": "markdown",
   "metadata": {},
   "source": [
    "# DS-NYC-DAT-45 | Final Project 2: Project Design Writeup"
   ]
  },
  {
   "cell_type": "markdown",
   "metadata": {},
   "source": [
    "### Problem Statement\n",
    "\n",
    "- Determine which employees will leave the company using employee data from the Kaggle dataset.\n",
    "- This is a supervised learning classification problem. We are predicting a binary value (1 = employee has left; 0 = still employed)\n",
    "- Understanding which employees have left will help us identify which employees will leave next. Followed by engagement with this group that would determine motivating factors will help the company in employee retention.\n",
    "- Hypothesis: High performing employees (evaluation score 0.8 or higher) who have few number of projects (3 or less) have a high likelihood to leave the company (probability > 0.5)."
   ]
  },
  {
   "cell_type": "markdown",
   "metadata": {},
   "source": [
    "### Outline of Potential Methods\n",
    "\n",
    "- Potential models: logistic regression, decision trees and random forest\n",
    "- Fit dataset using random forest and determine which features are more important according to the feature importance score. Try fitting decision trees to determine which feature interactions have high significance. Improve the logistic regression model using the important features and interactions learned from the previous steps. The final step will quantify the impact of each feature and features' interaction on employee attrition and help initiate the dialogue for the next step in employee engagement."
   ]
  },
  {
   "cell_type": "markdown",
   "metadata": {},
   "source": [
    "### Dataset\n",
    "\n",
    "- Data Source: Kaggle (15,000 employees, 10 variables including the dependent variable)\n",
    "- Data Dictionary\n",
    "\n",
    "Variable | Description | Type of Variable | Range\n",
    "---|---|---|---\n",
    "satisfaction_level | Satisfaction level of employee based on survey | Continuous | [0.09, 1]\n",
    "last_evaluation | Score based on employee's last evaluation | Continuous | [0.36, 1]\n",
    "number_project | Number of projects | Continuous | [2, 7]\n",
    "average_montly_hours | Average monthly hours | Continuous | [96, 310]\n",
    "time_spend_company | Years at company | Continuous | [2, 10]\n",
    "Work_accident | Whether employee had a work accident | Categorical | {0, 1}\n",
    "left | Whether employee had left | Categorical | {0, 1}\n",
    "promotion_last_5years | Whether employee had a promotion in the last 5 years | Categorical | {0, 1}\n",
    "sales | Department employee worked in | Categorical | 10 departments \n",
    "salary | Level of employee's salary | Categorical | {low, medium, high}\n",
    "\n",
    "- Sample Data"
   ]
  },
  {
   "cell_type": "code",
   "execution_count": 8,
   "metadata": {
    "collapsed": false
   },
   "outputs": [
    {
     "data": {
      "text/html": [
       "<div>\n",
       "<table border=\"1\" class=\"dataframe\">\n",
       "  <thead>\n",
       "    <tr style=\"text-align: right;\">\n",
       "      <th></th>\n",
       "      <th>satisfaction_level</th>\n",
       "      <th>last_evaluation</th>\n",
       "      <th>number_project</th>\n",
       "      <th>average_montly_hours</th>\n",
       "      <th>time_spend_company</th>\n",
       "      <th>Work_accident</th>\n",
       "      <th>left</th>\n",
       "      <th>promotion_last_5years</th>\n",
       "      <th>sales</th>\n",
       "      <th>salary</th>\n",
       "    </tr>\n",
       "  </thead>\n",
       "  <tbody>\n",
       "    <tr>\n",
       "      <th>0</th>\n",
       "      <td>0.38</td>\n",
       "      <td>0.53</td>\n",
       "      <td>2</td>\n",
       "      <td>157</td>\n",
       "      <td>3</td>\n",
       "      <td>0</td>\n",
       "      <td>1</td>\n",
       "      <td>0</td>\n",
       "      <td>sales</td>\n",
       "      <td>low</td>\n",
       "    </tr>\n",
       "    <tr>\n",
       "      <th>1</th>\n",
       "      <td>0.80</td>\n",
       "      <td>0.86</td>\n",
       "      <td>5</td>\n",
       "      <td>262</td>\n",
       "      <td>6</td>\n",
       "      <td>0</td>\n",
       "      <td>1</td>\n",
       "      <td>0</td>\n",
       "      <td>sales</td>\n",
       "      <td>medium</td>\n",
       "    </tr>\n",
       "    <tr>\n",
       "      <th>2</th>\n",
       "      <td>0.11</td>\n",
       "      <td>0.88</td>\n",
       "      <td>7</td>\n",
       "      <td>272</td>\n",
       "      <td>4</td>\n",
       "      <td>0</td>\n",
       "      <td>1</td>\n",
       "      <td>0</td>\n",
       "      <td>sales</td>\n",
       "      <td>medium</td>\n",
       "    </tr>\n",
       "    <tr>\n",
       "      <th>3</th>\n",
       "      <td>0.72</td>\n",
       "      <td>0.87</td>\n",
       "      <td>5</td>\n",
       "      <td>223</td>\n",
       "      <td>5</td>\n",
       "      <td>0</td>\n",
       "      <td>1</td>\n",
       "      <td>0</td>\n",
       "      <td>sales</td>\n",
       "      <td>low</td>\n",
       "    </tr>\n",
       "    <tr>\n",
       "      <th>4</th>\n",
       "      <td>0.37</td>\n",
       "      <td>0.52</td>\n",
       "      <td>2</td>\n",
       "      <td>159</td>\n",
       "      <td>3</td>\n",
       "      <td>0</td>\n",
       "      <td>1</td>\n",
       "      <td>0</td>\n",
       "      <td>sales</td>\n",
       "      <td>low</td>\n",
       "    </tr>\n",
       "  </tbody>\n",
       "</table>\n",
       "</div>"
      ],
      "text/plain": [
       "   satisfaction_level  last_evaluation  number_project  average_montly_hours  \\\n",
       "0                0.38             0.53               2                   157   \n",
       "1                0.80             0.86               5                   262   \n",
       "2                0.11             0.88               7                   272   \n",
       "3                0.72             0.87               5                   223   \n",
       "4                0.37             0.52               2                   159   \n",
       "\n",
       "   time_spend_company  Work_accident  left  promotion_last_5years  sales  \\\n",
       "0                   3              0     1                      0  sales   \n",
       "1                   6              0     1                      0  sales   \n",
       "2                   4              0     1                      0  sales   \n",
       "3                   5              0     1                      0  sales   \n",
       "4                   3              0     1                      0  sales   \n",
       "\n",
       "   salary  \n",
       "0     low  \n",
       "1  medium  \n",
       "2  medium  \n",
       "3     low  \n",
       "4     low  "
      ]
     },
     "execution_count": 8,
     "metadata": {},
     "output_type": "execute_result"
    }
   ],
   "source": [
    "import pandas as pd\n",
    "df = pd.read_csv('hr/HR_data.csv')\n",
    "df.head()"
   ]
  },
  {
   "cell_type": "markdown",
   "metadata": {},
   "source": [
    "### Project Concerns\n",
    "\n",
    "- Salary variable would be better if it were continuous rather than categorical (low, medium, high). Since this variable is ordinal would it make sense to change it to {1, 2, 3}? Are there risks in doing so for certain models (logistic regression) but not for others (decision trees/random forest)? Is it better to convert it to numbers that are more representative such as {3, 7, 15} that reflect average salary of 30K, 70K, 150K for low, medium and high?\n",
    "- By definition, the data is not a perfect cross-sectional data (unless ~3,500 out of 15,000 employee quit on the same day.) And the year the employee left is not available, which may introduce some noise in the data. (For example, less people may be jumping to other companies during a recession.)\n",
    "- Also, the data does not specify whether the employee left voluntarily or involuntarily. The assumption is that the data includes employees who have been laid off or fired and they are indicated the same as those who left voluntarily.\n",
    "- The dataset is submitted by a Kaggle user, but did not come with many details surrounding the data, such as what industry, time period or country. Because of the lack of details there may be questions regarding the accuracy of the data."
   ]
  },
  {
   "cell_type": "markdown",
   "metadata": {},
   "source": [
    "### Outcomes\n",
    "\n",
    "- The main objective of the model is to correctly predict which employees will leave and thus prediction accuracy will be the criteria for model selection. The lower bound of the prediction accuracy is 0.76, which is the proportion of the population that have not left the company. The upper bound is set at 0.99, which is the cross validation accuracy score of the Random Forest model.\n",
    "- The goal is to fit a model that could explain the drivers of the outcome (e.g., logistic regression) with a prediction accuracy of 90% or better on the testing set.\n",
    "- Another objective of the project is to determine which features and feature interactions are the most significant in predicting the outcome. This could involve comparing the coefficients of the logistic regression model or where the nodes are in the decision tree.\n",
    "\n",
    "#### Taking one step further\n",
    "Make it a clustering problem:\n",
    "1. Take the group of employees who have left and use that dataset to create segments to better understand what type of employees are leaving. (e.g., \"disgruntled and low performing\", \"overworked\", \"high performers but not enough work to do\", etc.)\n",
    "2. Alternatively, you can create segments from the entire population (while excluding the outcome variable) and determine which groups have the highest attrition rate to target the employees in that group for follow up discussions.\n",
    "\n",
    "#### Resources\n",
    "Similar projects on this topic:\n",
    "1. A Study on Employee Attrition and Retention in Manufacturing Industries\n",
    "http://www.bvimsr.com/documents/publication/2013V5N1/09.pdf\n",
    "2. Whole Foods Market Case Study: Leadership and Employee Retention \n",
    "http://scholarsarchive.jwu.edu/mba_student/8/\n",
    "3. Predictive Employee Turnover Analysis Flow Chart\n",
    "http://www.inostix.com/blog/en/case-study-predictive-employee-turnover-analysis-flow-chart-hr-analytics/"
   ]
  },
  {
   "cell_type": "code",
   "execution_count": null,
   "metadata": {
    "collapsed": true
   },
   "outputs": [],
   "source": []
  }
 ],
 "metadata": {
  "anaconda-cloud": {},
  "kernelspec": {
   "display_name": "Python [conda root]",
   "language": "python",
   "name": "conda-root-py"
  },
  "language_info": {
   "codemirror_mode": {
    "name": "ipython",
    "version": 2
   },
   "file_extension": ".py",
   "mimetype": "text/x-python",
   "name": "python",
   "nbconvert_exporter": "python",
   "pygments_lexer": "ipython2",
   "version": "2.7.12"
  }
 },
 "nbformat": 4,
 "nbformat_minor": 1
}
